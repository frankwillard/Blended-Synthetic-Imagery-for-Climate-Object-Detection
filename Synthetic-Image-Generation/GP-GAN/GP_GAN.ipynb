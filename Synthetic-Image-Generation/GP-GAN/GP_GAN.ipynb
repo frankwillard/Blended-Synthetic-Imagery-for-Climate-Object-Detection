{
  "nbformat": 4,
  "nbformat_minor": 0,
  "metadata": {
    "colab": {
      "name": "GP-GAN",
      "provenance": [],
      "private_outputs": true,
      "collapsed_sections": []
    },
    "kernelspec": {
      "name": "python3",
      "display_name": "Python 3"
    },
    "accelerator": "GPU"
  },
  "cells": [
    {
      "cell_type": "code",
      "metadata": {
        "id": "mrm3XY0vwXR9",
        "colab_type": "code",
        "colab": {}
      },
      "source": [
        "!git clone https://github.com/wuhuikai/GP-GAN.git"
      ],
      "execution_count": 0,
      "outputs": []
    },
    {
      "cell_type": "code",
      "metadata": {
        "id": "UkvFVSeuwkhz",
        "colab_type": "code",
        "colab": {}
      },
      "source": [
        "%cd GP-GAN"
      ],
      "execution_count": 0,
      "outputs": []
    },
    {
      "cell_type": "code",
      "metadata": {
        "id": "2yRXOy91HGvo",
        "colab_type": "code",
        "colab": {}
      },
      "source": [
        "%cd models"
      ],
      "execution_count": 0,
      "outputs": []
    },
    {
      "cell_type": "markdown",
      "metadata": {
        "id": "TSh_NMomIxMm",
        "colab_type": "text"
      },
      "source": [
        "Download the pretrained models"
      ]
    },
    {
      "cell_type": "code",
      "metadata": {
        "id": "9XYlvHXIG-PA",
        "colab_type": "code",
        "colab": {}
      },
      "source": [
        "!gdown https://drive.google.com/uc?id=0Bybnpq8dvwudXzZFLU1iOXVOZ3c\n",
        "!gdown https://drive.google.com/uc?id=0Bybnpq8dvwudRzRLUm1xYmt6R1E\n",
        "!gdown https://drive.google.com/uc?id=0Bybnpq8dvwudOEFELWkzcGJJVjA"
      ],
      "execution_count": 0,
      "outputs": []
    },
    {
      "cell_type": "markdown",
      "metadata": {
        "id": "rb9Tcna1I-p8",
        "colab_type": "text"
      },
      "source": [
        "Install repo requirements"
      ]
    },
    {
      "cell_type": "code",
      "metadata": {
        "id": "MU0hDbizJDMN",
        "colab_type": "code",
        "colab": {}
      },
      "source": [
        "%cd .."
      ],
      "execution_count": 0,
      "outputs": []
    },
    {
      "cell_type": "code",
      "metadata": {
        "id": "-dFUHub0wph-",
        "colab_type": "code",
        "colab": {}
      },
      "source": [
        "!pip install -r requirements/test/requirements.txt"
      ],
      "execution_count": 0,
      "outputs": []
    },
    {
      "cell_type": "markdown",
      "metadata": {
        "id": "DE20NcM8FKoF",
        "colab_type": "text"
      },
      "source": [
        "It's ok to restart the runtime, you will just have to cd into the correct directory again with %cd GP-GAN.\n",
        "\n",
        "Drag and drop 3 images into your GP-GAN/images/test_images folder on the left: The source image (the one you want to cut something out of), the destination image (where you want to add the cropped one), and the mask image(in png format)."
      ]
    },
    {
      "cell_type": "code",
      "metadata": {
        "id": "3Q8vepxPLjyW",
        "colab_type": "code",
        "colab": {}
      },
      "source": [
        "%cd GP-GAN"
      ],
      "execution_count": 0,
      "outputs": []
    },
    {
      "cell_type": "code",
      "metadata": {
        "id": "ifhGIEt3yzhj",
        "colab_type": "code",
        "colab": {}
      },
      "source": [
        "!python run_gp_gan.py --src_image images/test_images/src.jpg --dst_image images/test_images/dst.jpg --mask_image images/test_images/mask.png --blended_image images/test_images/result_image.png"
      ],
      "execution_count": 0,
      "outputs": []
    },
    {
      "cell_type": "code",
      "metadata": {
        "id": "HahrT0smL3wr",
        "colab_type": "code",
        "colab": {}
      },
      "source": [
        "from IPython.display import Image\n",
        "Image('images/test_images/result_image.png')"
      ],
      "execution_count": 0,
      "outputs": []
    },
    {
      "cell_type": "markdown",
      "metadata": {
        "id": "iIbn_YMULyxa",
        "colab_type": "text"
      },
      "source": [
        "Huzzah!  "
      ]
    },
    {
      "cell_type": "markdown",
      "metadata": {
        "id": "s06BKBDRGGIH",
        "colab_type": "text"
      },
      "source": [
        "Here is another way of doing it (unsupervised):"
      ]
    },
    {
      "cell_type": "code",
      "metadata": {
        "id": "WUU0YFQt1kIe",
        "colab_type": "code",
        "colab": {}
      },
      "source": [
        "!python run_gp_gan.py --src_image images/test_images/src.jpg --dst_image images/test_images/dst.jpg --mask_image images/test_images/mask.png --blended_image images/test_images/result_image_unsupervised.png --supervised False"
      ],
      "execution_count": 0,
      "outputs": []
    },
    {
      "cell_type": "code",
      "metadata": {
        "id": "XwHI03YXNYxC",
        "colab_type": "code",
        "colab": {}
      },
      "source": [
        "from IPython.display import Image\n",
        "Image('images/test_images/result_image_unsupervised.png')"
      ],
      "execution_count": 0,
      "outputs": []
    },
    {
      "cell_type": "markdown",
      "metadata": {
        "id": "zwyIaneSGh1Z",
        "colab_type": "text"
      },
      "source": [
        "Notebook Version by Tyler Suard, www.TylerSuard.com\n",
        "\n",
        "Contributed to https://github.com/wuhuikai/GP-GAN, a project by Wu Huikai"
      ]
    }
  ]
}